{
  "cells": [
    {
      "cell_type": "markdown",
      "source": [
        "# Kelompok 5 - SI4309 :\n",
        "\n",
        "- Bagus Tri Atmaja\n",
        "- Muhammad Ihsan Izzulhaq\n",
        "- Yanuar Taruna Lutfi\n",
        "- Yessica Naomi Situmeang"
      ],
      "metadata": {
        "id": "NBV4qutKRrKf"
      }
    },
    {
      "cell_type": "markdown",
      "metadata": {
        "id": "xx81XRD5zVJS"
      },
      "source": [
        "## Connected with rapidapi.com"
      ]
    },
    {
      "cell_type": "markdown",
      "source": [
        "Kita import terlebih dahulu kebutuhan integrasi aplikasi dan beberapa kebutuhan pemrosesan data serta visualisasi, sehingga kita memerlukan beberapa library, berikut library yang kita gunakan."
      ],
      "metadata": {
        "id": "yNQpijWwRpEv"
      }
    },
    {
      "cell_type": "code",
      "execution_count": null,
      "metadata": {
        "id": "am-mVVUqqqUy"
      },
      "outputs": [],
      "source": [
        "import json\n",
        "import requests\n",
        "import matplotlib.pyplot as plt\n",
        "import numpy as np\n",
        "import pandas as pd"
      ]
    },
    {
      "cell_type": "markdown",
      "source": [
        "Setelah itu, kita lakukan requests terhadap API-nya menggunakan url yang diberikan oleh rapid API-nya menggunakan method requests dari link: https://rapidapi.com/axisbits-axisbits-default/api/covid-19-statistics/."
      ],
      "metadata": {
        "id": "WISic2VJTKRZ"
      }
    },
    {
      "cell_type": "code",
      "execution_count": null,
      "metadata": {
        "id": "M09wGA8XMMGU"
      },
      "outputs": [],
      "source": [
        "url = \"https://covid-19-statistics.p.rapidapi.com/reports\"\n",
        "\n",
        "headers = {\n",
        "\t\"X-RapidAPI-Host\": \"covid-19-statistics.p.rapidapi.com\",\n",
        "\t\"X-RapidAPI-Key\": \"c53f40a9fbmsh9a803bcc4fa47c4p1dcffdjsndc6e0dae032f\"\n",
        "}\n",
        "\n",
        "response = requests.request(\"GET\", url, headers=headers)\n",
        "print(response.text)"
      ]
    },
    {
      "cell_type": "markdown",
      "metadata": {
        "id": "l6U-TGc3zVJa"
      },
      "source": [
        "**Show all keys**\n",
        "\n",
        "Karena Json berbentuk dictionary, jadi pertama akan dibuat list kosong untuk menampung value, kemudian menggunakan iterarion untuk mengambil setiap value dari setiap keys."
      ]
    },
    {
      "cell_type": "code",
      "execution_count": null,
      "metadata": {
        "id": "-hbgr3onQc2c"
      },
      "outputs": [],
      "source": [
        "k= list()\n",
        "data_json = response.json()['data']\n",
        "for data1 in data_json:\n",
        "  for data2 in data1:\n",
        "      k.append(data2)\n",
        "key=list(dict.fromkeys(k))\n",
        "\n",
        "print(data_json)"
      ]
    },
    {
      "cell_type": "markdown",
      "metadata": {
        "id": "WZrKsEDuzVJc"
      },
      "source": [
        "## Create List From Json"
      ]
    },
    {
      "cell_type": "markdown",
      "source": [
        "### **Keys Listing**\n",
        "\n",
        "Agar lebih mudah dibaca, kita membuat list kosongan untuk setiap keys yang ada lalu kita tambahkan value ke masing-masing keys tersebut sesuai datanya."
      ],
      "metadata": {
        "id": "-1gLhKN7UORe"
      }
    },
    {
      "cell_type": "code",
      "execution_count": null,
      "metadata": {
        "id": "I8D_zwAQQ2GH"
      },
      "outputs": [],
      "source": [
        "date= list()\n",
        "confirmed = list()\n",
        "deaths = list()\n",
        "recovered = list()\n",
        "confirmed_diff = list()\n",
        "deaths_diff = list()\n",
        "reccovered_diff= list()\n",
        "last_update = list()\n",
        "active = list()\n",
        "active_diff = list()\n",
        "fatality_rate = list()\n",
        "\n",
        "\n",
        "\n",
        "for data in data_json:\n",
        "  date.append(data['date'])\n",
        "\n",
        "  confirmed.append(data['confirmed'])\n",
        "  deaths.append(data['deaths'])\n",
        "  recovered.append(data['recovered'])\n",
        "  confirmed_diff.append(data['confirmed_diff'])\n",
        "  deaths_diff.append(data['deaths_diff'])\n",
        "  reccovered_diff.append(data['recovered_diff'])\n",
        "  last_update.append(data['last_update'])\n",
        "  active.append(data['active'])\n",
        "  active_diff.append(data['active_diff'])\n",
        "  fatality_rate.append(data['fatality_rate'])\n",
        "\n"
      ]
    },
    {
      "cell_type": "markdown",
      "source": [
        "Kemudian kita membuat dictionary yang berisi key dan values berupa date (tanggal)."
      ],
      "metadata": {
        "id": "X2o0l3_PUze1"
      }
    },
    {
      "cell_type": "code",
      "source": [
        "date_dict={}\n",
        "for i in range (len(date)):\n",
        "  date_dict[i]=date[i]\n",
        "\n",
        "print(date_dict)"
      ],
      "metadata": {
        "id": "ct-jhTKQIyQO"
      },
      "execution_count": null,
      "outputs": []
    },
    {
      "cell_type": "markdown",
      "metadata": {
        "id": "mnN2fAV2zVJx"
      },
      "source": [
        "## Load Data Using Pandas"
      ]
    },
    {
      "cell_type": "markdown",
      "source": [
        "Kami menggunakan Library Pandas untuk menampilkan data berupa DataFrame."
      ],
      "metadata": {
        "id": "J5k_EtIGV2pY"
      }
    },
    {
      "cell_type": "code",
      "execution_count": null,
      "metadata": {
        "id": "kUZmZYA-zVJy"
      },
      "outputs": [],
      "source": [
        "df = pd.DataFrame(data_json)\n",
        "print(df.head(5))"
      ]
    },
    {
      "cell_type": "markdown",
      "source": [
        "Selanjutnya kami memasukkan values nama negara kedalam dictionary 'nameCountry_dict'."
      ],
      "metadata": {
        "id": "YZ4qArBuVwMP"
      }
    },
    {
      "cell_type": "code",
      "execution_count": null,
      "metadata": {
        "id": "0XfgSDQgzVJz"
      },
      "outputs": [],
      "source": [
        "nameCountry = list()\n",
        "count = len(date)\n",
        "for i in range (0, count):\n",
        "    p = data_json[i]['region']['name']\n",
        "    nameCountry.append(p)\n",
        "    \n",
        "nameCountry_dict={}\n",
        "for i in range (len(nameCountry)):\n",
        "  nameCountry_dict[i]=nameCountry[i]\n",
        "\n",
        "print(nameCountry_dict)"
      ]
    },
    {
      "cell_type": "markdown",
      "source": [
        "Lalu kita memasukkan jumlah provinsi dari suatu negara kedalam dictionary 'banyak_provinsi' menggunakan perulangan 'for'."
      ],
      "metadata": {
        "id": "ugMVKXv8Wz9m"
      }
    },
    {
      "cell_type": "code",
      "source": [
        "a = 1\n",
        "banyak_provinsi = {}\n",
        "for i in range (1,len(nameCountry)):\n",
        "  if nameCountry[i-1] == nameCountry[i]:\n",
        "    banyak_provinsi[nameCountry[i]] = a = a+1\n",
        "    a=a+1\n",
        "  else:\n",
        "    a = 1\n",
        "print(banyak_provinsi)"
      ],
      "metadata": {
        "id": "bD0ZzJQLnqo3"
      },
      "execution_count": null,
      "outputs": []
    },
    {
      "cell_type": "markdown",
      "source": [
        "Kemudian kami memasukkan nama provinsi dari data region kedalam dictionary 'nameProvince_dict'."
      ],
      "metadata": {
        "id": "M4O9sEuDXEyc"
      }
    },
    {
      "cell_type": "code",
      "source": [
        "nameProvince = list()\n",
        "count = len(date)\n",
        "for i in range (0, count):\n",
        "    p = data_json[i]['region']['province']\n",
        "    nameProvince.append(p)\n",
        "\n",
        "nameProvince_dict={}\n",
        "for i in range (len(nameProvince)):\n",
        "  nameProvince_dict[i]=nameProvince[i]\n",
        "\n",
        "print(nameProvince_dict)"
      ],
      "metadata": {
        "id": "_4rbLfvi1EGA"
      },
      "execution_count": null,
      "outputs": []
    },
    {
      "cell_type": "markdown",
      "source": [
        "Selanjutnya kami memasukkan titik garis lintang kedalam list 'lat'."
      ],
      "metadata": {
        "id": "Fh3Yr7fHXXoa"
      }
    },
    {
      "cell_type": "code",
      "source": [
        "lat = list()\n",
        "count = len(date)\n",
        "for i in range (0, count):\n",
        "    p = data_json[i]['region']['lat']\n",
        "    lat.append(p)\n",
        "print(lat)\n",
        "print(len(lat))"
      ],
      "metadata": {
        "id": "XjVUXk6Z3MNY"
      },
      "execution_count": null,
      "outputs": []
    },
    {
      "cell_type": "markdown",
      "source": [
        "Selanjutnya kami memasukkan nama kota kedalam dictionary 'nameCities_dict'."
      ],
      "metadata": {
        "id": "FIcDexevXsPL"
      }
    },
    {
      "cell_type": "code",
      "source": [
        "namecities = list()\n",
        "count = len(date)\n",
        "for i in range (0, count):\n",
        "    p = data_json[i]['region']['cities']\n",
        "    namecities.append(p)\n",
        "\n",
        "namecities_dict={}\n",
        "for i in range (len(namecities)):\n",
        "  namecities_dict[i]=namecities[i]\n",
        "\n",
        "print(namecities_dict)"
      ],
      "metadata": {
        "id": "10pCbFyX3h8P"
      },
      "execution_count": null,
      "outputs": []
    },
    {
      "cell_type": "markdown",
      "source": [
        "Selanjutnya memasukkan titik garis lintang dari list 'lat' kedalam dictionary 'lat_dict'."
      ],
      "metadata": {
        "id": "J6hcdmMcYwpW"
      }
    },
    {
      "cell_type": "code",
      "execution_count": null,
      "metadata": {
        "id": "acaefkrQzVJz"
      },
      "outputs": [],
      "source": [
        "lat = list()\n",
        "count = len(date)\n",
        "for i in range (0, count):\n",
        "    p = data_json[i]['region']['lat']\n",
        "    lat.append(p)\n",
        "\n",
        "lat_dict={}\n",
        "for i in range (len(lat)):\n",
        "  lat_dict[i]=lat[i]\n",
        "\n",
        "print(lat_dict)"
      ]
    },
    {
      "cell_type": "markdown",
      "source": [
        "Selanjutnya memasukkan titik garis bujur dari list 'long' kedalam dictionary 'long_dict'."
      ],
      "metadata": {
        "id": "ucuFXXJCbI-D"
      }
    },
    {
      "cell_type": "code",
      "source": [
        "long = list()\n",
        "count = len(date)\n",
        "for i in range (0, count):\n",
        "    p = data_json[i]['region']['long']\n",
        "    long.append(p)\n",
        "\n",
        "long_dict={}\n",
        "for i in range (len(long)):\n",
        "  long_dict[i]=long[i]\n",
        "\n",
        "print(long_dict)"
      ],
      "metadata": {
        "id": "uRtYES3WMjKI"
      },
      "execution_count": null,
      "outputs": []
    },
    {
      "cell_type": "markdown",
      "source": [
        "Selanjutnya memasukkan kasus aktif Covid-19 dari list 'ative' kedalam dictionary 'total_case'."
      ],
      "metadata": {
        "id": "F62MCjRebQyF"
      }
    },
    {
      "cell_type": "code",
      "source": [
        "active = list()\n",
        "count = len(date)\n",
        "for i in range (0, count):\n",
        "    p = data_json[i]['active']\n",
        "    active.append(p)\n",
        "\n",
        "total_case={}\n",
        "for i in range (len(active)):\n",
        "  total_case[i]=active[i]\n",
        "\n",
        "print(total_case)"
      ],
      "metadata": {
        "id": "QWUJf3hqNWfv"
      },
      "execution_count": null,
      "outputs": []
    },
    {
      "cell_type": "markdown",
      "source": [
        "Membuat dictionary 'date_dict' yang berisi tanggal dari kasus aktif Covid-19."
      ],
      "metadata": {
        "id": "lRWFB5dObXyO"
      }
    },
    {
      "cell_type": "code",
      "source": [
        "date_dict={}\n",
        "for i in range (len(date)):\n",
        "  date_dict[i]=date[i]\n",
        "\n",
        "print(date_dict)"
      ],
      "metadata": {
        "id": "0XWrcx8bODWc"
      },
      "execution_count": null,
      "outputs": []
    },
    {
      "cell_type": "markdown",
      "source": [
        "Lalu kami membuat dictionary lengkap bernama 'full_dictionary' yang berisi titik garis lintang & garis bujur, kasus aktif, tanggal, nama provinsi, hingga nama negara."
      ],
      "metadata": {
        "id": "H-DamQUzbnWt"
      }
    },
    {
      "cell_type": "code",
      "source": [
        "fatality_rate_dict = {}\n",
        "for i in range (len(date)):\n",
        "  fatality_rate_dict[i]=fatality_rate[i]\n",
        "\n",
        "print(fatality_rate_dict)"
      ],
      "metadata": {
        "id": "P4JXvkt8ka14"
      },
      "execution_count": null,
      "outputs": []
    },
    {
      "cell_type": "code",
      "source": [
        "full_dictrionary={}\n",
        "kolom_dict = [lat_dict,long_dict,total_case,date_dict,nameProvince_dict,nameCountry_dict,fatality_rate_dict]\n",
        "kolom = ['lat_dict','long_dict','total_case','date_dict','nameProvince_dict','nameCountry_dict','fatality_rate_dict']\n",
        "\n",
        "\n",
        "for i in range (len(kolom)):\n",
        "\n",
        "  full_dictrionary[kolom[i]]=kolom_dict[i]\n",
        "\n",
        "print(full_dictrionary)"
      ],
      "metadata": {
        "id": "BohRRdpfNzGm"
      },
      "execution_count": null,
      "outputs": []
    },
    {
      "cell_type": "code",
      "source": [
        "df2 = pd.DataFrame.from_dict(full_dictrionary)\n",
        "print(df2)"
      ],
      "metadata": {
        "id": "PJzAhbKKUrOi"
      },
      "execution_count": null,
      "outputs": []
    },
    {
      "cell_type": "code",
      "source": [
        "Region_FatalityRate = pd.pivot_table(df2, values='fatality_rate_dict', index=['nameCountry_dict'],  aggfunc =np.mean, fill_value=0)\n",
        "\n",
        "print(Region_FatalityRate)"
      ],
      "metadata": {
        "id": "-H1sXQk3kqbo"
      },
      "execution_count": null,
      "outputs": []
    },
    {
      "cell_type": "markdown",
      "source": [
        "Lalu full_dictionary tersebut kita ubah menjadi DataFrame menggunakan pandas seperti berikut."
      ],
      "metadata": {
        "id": "gK77CiyRcQf7"
      }
    },
    {
      "cell_type": "code",
      "source": [
        "pivot_largest = Region_FatalityRate.reindex(Region_FatalityRate['fatality_rate_dict'].sort_values(ascending=False).index).nlargest(10, 'fatality_rate_dict')\n",
        "pivot_largest.style.format({'active_dict':'{:*100}'+'%','nameCountry_dict':'{0:,.0f}hp'}).bar(color='#d65f5f')\n"
      ],
      "metadata": {
        "id": "CqbLT52DlAUD"
      },
      "execution_count": null,
      "outputs": []
    },
    {
      "cell_type": "code",
      "source": [
        "pivot_lowest = Region_FatalityRate.reindex(Region_FatalityRate['fatality_rate_dict'].sort_values(ascending=False).index).nsmallest(10, 'fatality_rate_dict')\n",
        "pivot_lowest.style.format({'active_dict':'{:*100}'+'%','nameCountry_dict':'{0:,.0f}hp'}).bar(color='#332087')"
      ],
      "metadata": {
        "id": "5C4KOcRLln36"
      },
      "execution_count": null,
      "outputs": []
    },
    {
      "cell_type": "markdown",
      "source": [
        "Selanjutnya kita menggunakan pivot table untuk menampilkan seluruh negara dan kasus aktif-nya."
      ],
      "metadata": {
        "id": "6bF0JMxXcdLI"
      }
    },
    {
      "cell_type": "code",
      "source": [
        "Region_ActiveCase = pd.pivot_table(df2, values='total_case', index=['nameCountry_dict'],  aggfunc =np.sum, fill_value=0)\n",
        "\n",
        "print(Region_ActiveCase)"
      ],
      "metadata": {
        "id": "TxsxXPw6rLXW"
      },
      "execution_count": null,
      "outputs": []
    },
    {
      "cell_type": "markdown",
      "source": [
        "Lalu kita gunakan pivot table lagi untuk menampilkan kasus yang dikonfirmasi dan kematian terbaru / terupdate. \n"
      ],
      "metadata": {
        "id": "J9rnktVgdYQp"
      }
    },
    {
      "cell_type": "code",
      "execution_count": null,
      "metadata": {
        "id": "qsr69GIHzVJ0"
      },
      "outputs": [],
      "source": [
        "df.pivot_table(index=[\"date\"], values=[\"active_diff\", \"deaths_diff\"])"
      ]
    },
    {
      "cell_type": "markdown",
      "source": [
        "Untuk melihat negara mana yang terdapat total kasus terbanyak, disini kami menggunakan visualisasi berupa map dengan indikator heatmap. dapat dilihat bahwa makin pekat warna nya maka makin banyak pula kasusnya, namun karena keterbatasan data. tidak semua kota dan daerah dapat ditampilkan"
      ],
      "metadata": {
        "id": "VOycFvEReFdv"
      }
    },
    {
      "cell_type": "code",
      "execution_count": null,
      "metadata": {
        "id": "eU9Q4j0kzVJ1"
      },
      "outputs": [],
      "source": [
        "import plotly.express as px\n",
        "\n",
        "fig = px.density_mapbox(df2, lat = 'lat_dict', lon = 'long_dict', z='total_case', radius =25, center=dict(lat=0,lon=180),zoom=0,mapbox_style='open-street-map')\n",
        "\n",
        "fig.show()"
      ]
    },
    {
      "cell_type": "markdown",
      "source": [
        "Lalu kita buat visualisasi yang menampilkan negara dengan kasus terbanyak menggnakan pivot table."
      ],
      "metadata": {
        "id": "zgCqqt3SgubN"
      }
    },
    {
      "cell_type": "code",
      "source": [
        "pivot1 = Region_ActiveCase.reindex(Region_ActiveCase['total_case'].sort_values(ascending=False).index).nlargest(10, 'total_case')\n",
        "\n",
        "pivot1.style.format({'total_case':'{0:,.0f} people','nameCountry_dict':'{0:,.0f}hp'}).bar(color='#d65f5f')"
      ],
      "metadata": {
        "id": "tObxWXKXI0DR"
      },
      "execution_count": null,
      "outputs": []
    },
    {
      "cell_type": "markdown",
      "source": [
        "Lalu kita buat visualisasi yang menampilkan 10 negara dengan kasus postive covid-19 paling sedikit menggnakan pivot table. "
      ],
      "metadata": {
        "id": "_zS56M3Lg7E3"
      }
    },
    {
      "cell_type": "code",
      "source": [
        "pivot1 = Region_ActiveCase.reindex(Region_ActiveCase['total_case'].sort_values(ascending=False).index).nsmallest(10, 'total_case')\n",
        "\n",
        "pivot1.style.format({'total_case':'{0:,.0f} people','nameCountry_dict':'{0:,.0f}hp'}).bar(color='#6D8B74')"
      ],
      "metadata": {
        "id": "AzEq1Os7eM5Y"
      },
      "execution_count": null,
      "outputs": []
    },
    {
      "cell_type": "markdown",
      "source": [
        "Jika kita bandingkan data total kasus aktif paling sedikit dengan data fatality rate, maka kita dapat menyimpulkan bahwa negara/daerah dengan kasus covid yang sedikit belum tentu memiliki fatality rate yang kecil."
      ],
      "metadata": {
        "id": "cOhmead62jY1"
      }
    }
  ],
  "metadata": {
    "colab": {
      "collapsed_sections": [],
      "name": "Covid_19_Statistic_API.ipynb",
      "provenance": []
    },
    "interpreter": {
      "hash": "1d5c1156327dacead463cc502c55ebae8ce9c8c01979cf154173ff808e75bf55"
    },
    "kernelspec": {
      "display_name": "Python 3.9.1 64-bit",
      "language": "python",
      "name": "python3"
    },
    "language_info": {
      "codemirror_mode": {
        "name": "ipython",
        "version": 3
      },
      "file_extension": ".py",
      "mimetype": "text/x-python",
      "name": "python",
      "nbconvert_exporter": "python",
      "pygments_lexer": "ipython3",
      "version": "3.9.1"
    }
  },
  "nbformat": 4,
  "nbformat_minor": 0
}
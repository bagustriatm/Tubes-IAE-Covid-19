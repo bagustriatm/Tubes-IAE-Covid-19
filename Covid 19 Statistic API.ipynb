{
  "cells": [
    {
      "cell_type": "code",
      "execution_count": 1,
      "metadata": {
        "id": "am-mVVUqqqUy"
      },
      "outputs": [],
      "source": [
        "import json\n",
        "import csv\n",
        "import requests"
      ]
    },
    {
      "cell_type": "code",
      "execution_count": null,
      "metadata": {
        "id": "M09wGA8XMMGU"
      },
      "outputs": [],
      "source": [
        "url = \"https://covid-19-statistics.p.rapidapi.com/reports\"\n",
        "\n",
        "# querystring = {\"city_name\":\"Autauga\",\"region_province\":\"Alabama\",\"iso\":\"USA\",\"region_name\":\"US\",\"q\":\"US Alabama\",\"date\":\"2020-04-16\"}\n",
        "\n",
        "headers = {\n",
        "\t\"X-RapidAPI-Host\": \"covid-19-statistics.p.rapidapi.com\",\n",
        "\t\"X-RapidAPI-Key\": \"c53f40a9fbmsh9a803bcc4fa47c4p1dcffdjsndc6e0dae032f\"\n",
        "}\n",
        "\n",
        "response = requests.request(\"GET\", url, headers=headers)\n",
        "print(response.text)"
      ]
    },
    {
      "cell_type": "code",
      "execution_count": 5,
      "metadata": {
        "colab": {
          "base_uri": "https://localhost:8080/"
        },
        "id": "-hbgr3onQc2c",
        "outputId": "ba9faf8d-4aab-4d46-ab0d-da1273b0f76c"
      },
      "outputs": [
        {
          "name": "stdout",
          "output_type": "stream",
          "text": [
            "['date', 'confirmed', 'deaths', 'recovered', 'confirmed_diff', 'deaths_diff', 'recovered_diff', 'last_update', 'active', 'active_diff', 'fatality_rate', 'region']\n"
          ]
        }
      ],
      "source": [
        "k= list()\n",
        "data_json = response.json()['data']\n",
        "for data1 in data_json:\n",
        "  for data2 in data1:\n",
        "      k.append(data2)\n",
        "key=list(dict.fromkeys(k))\n",
        "print(key)\n"
      ]
    },
    {
      "cell_type": "code",
      "execution_count": null,
      "metadata": {},
      "outputs": [],
      "source": [
        "response = requests.request(\"GET\", url, headers=headers)\n",
        "\n",
        "print(response.text)\n",
        "\n"
      ]
    },
    {
      "cell_type": "code",
      "execution_count": null,
      "metadata": {
        "colab": {
          "base_uri": "https://localhost:8080/"
        },
        "id": "I8D_zwAQQ2GH",
        "outputId": "3481e68e-3976-4bad-cc80-8b10c14081ea"
      },
      "outputs": [],
      "source": [
        "date= list()\n",
        "confirmed = list()\n",
        "deaths = list()\n",
        "recovered = list()\n",
        "confirmed_diff = list()\n",
        "deaths_diff = list()\n",
        "reccovered_diff= list()\n",
        "last_update = list()\n",
        "active = list()\n",
        "active_diff = list()\n",
        "fatality_rate = list()\n",
        "\n",
        "for data in data_json:\n",
        "  date.append(data['date'])\n",
        "\n",
        "print(date)"
      ]
    },
    {
      "cell_type": "code",
      "execution_count": null,
      "metadata": {
        "colab": {
          "base_uri": "https://localhost:8080/",
          "height": 183
        },
        "id": "oz79tYEqVSma",
        "outputId": "e276fd85-b92c-4420-afc0-dffd0fc2d80e"
      },
      "outputs": [],
      "source": [
        "for data in data_json:\n",
        "  confirmed.append(data['confirmed'])\n",
        "\n",
        "print(confirmed)"
      ]
    },
    {
      "cell_type": "code",
      "execution_count": null,
      "metadata": {
        "colab": {
          "base_uri": "https://localhost:8080/",
          "height": 183
        },
        "id": "8T09kc46Vo9N",
        "outputId": "5512b9da-1a54-4cc1-ffd3-3f0fb6f04eb8"
      },
      "outputs": [],
      "source": [
        "for data in data_json:\n",
        "  deaths.append(data['deaths'])\n",
        "\n",
        "print(deaths)"
      ]
    },
    {
      "cell_type": "code",
      "execution_count": null,
      "metadata": {
        "colab": {
          "base_uri": "https://localhost:8080/",
          "height": 235
        },
        "id": "mccW8yl6V5LG",
        "outputId": "fd2bb712-62d7-4a9e-c67f-9f4768c47182"
      },
      "outputs": [],
      "source": [
        "\n",
        "for data in data_json:\n",
        "  recovered.append(data['recovered'])\n",
        "\n",
        "print(recovered)"
      ]
    },
    {
      "cell_type": "code",
      "execution_count": null,
      "metadata": {},
      "outputs": [],
      "source": [
        "for data in data_json:\n",
        "  confirmed_diff.append(data['confirmed_diff'])\n",
        "print(confirmed_diff)\n"
      ]
    },
    {
      "cell_type": "code",
      "execution_count": null,
      "metadata": {},
      "outputs": [],
      "source": [
        "for data in data_json:\n",
        "  deaths_diff.append(data['deaths_diff'])\n",
        "  \n",
        "print(deaths_diff)"
      ]
    },
    {
      "cell_type": "code",
      "execution_count": null,
      "metadata": {},
      "outputs": [],
      "source": [
        "for data in data_json:\n",
        "  reccovered_diff.append(data['recovered_diff'])\n",
        "  \n",
        "print(reccovered_diff)"
      ]
    },
    {
      "cell_type": "code",
      "execution_count": null,
      "metadata": {},
      "outputs": [],
      "source": [
        "for data in data_json:\n",
        "  last_update.append(data['last_update'])\n",
        "\n",
        "print(last_update)"
      ]
    },
    {
      "cell_type": "code",
      "execution_count": null,
      "metadata": {},
      "outputs": [],
      "source": [
        "for data in data_json:\n",
        "  active.append(data['active'])\n",
        "\n",
        "print(active)"
      ]
    },
    {
      "cell_type": "code",
      "execution_count": null,
      "metadata": {},
      "outputs": [],
      "source": [
        "for data in data_json:\n",
        "  active_diff.append(data['active_diff'])\n",
        "\n",
        "print(active_diff)"
      ]
    },
    {
      "cell_type": "code",
      "execution_count": null,
      "metadata": {},
      "outputs": [],
      "source": [
        "for data in data_json:\n",
        "  fatality_rate.append(data['fatality_rate'])\n",
        "print(fatality_rate)"
      ]
    }
  ],
  "metadata": {
    "colab": {
      "collapsed_sections": [],
      "name": "Collect_Data_From_API.ipynb",
      "provenance": []
    },
    "interpreter": {
      "hash": "1d5c1156327dacead463cc502c55ebae8ce9c8c01979cf154173ff808e75bf55"
    },
    "kernelspec": {
      "display_name": "Python 3.9.1 64-bit",
      "language": "python",
      "name": "python3"
    },
    "language_info": {
      "codemirror_mode": {
        "name": "ipython",
        "version": 3
      },
      "file_extension": ".py",
      "mimetype": "text/x-python",
      "name": "python",
      "nbconvert_exporter": "python",
      "pygments_lexer": "ipython3",
      "version": "3.9.1"
    }
  },
  "nbformat": 4,
  "nbformat_minor": 0
}
